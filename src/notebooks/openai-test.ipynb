{
 "cells": [
  {
   "cell_type": "code",
   "execution_count": 11,
   "id": "8f5d33e9-6b24-4d33-b30d-4eebd0c73559",
   "metadata": {},
   "outputs": [],
   "source": [
    "from openai import OpenAI \n",
    "import os"
   ]
  },
  {
   "cell_type": "code",
   "execution_count": 12,
   "id": "749fe60c-c77d-4a78-91d9-b25c5cfc1aa4",
   "metadata": {},
   "outputs": [],
   "source": [
    "MODEL=\"gpt-4o-mini\"\n",
    "client = OpenAI()"
   ]
  },
  {
   "cell_type": "code",
   "execution_count": 13,
   "id": "bad36c33-d756-4b1e-a08f-92c2c3d2ab59",
   "metadata": {},
   "outputs": [],
   "source": [
    "response = client.chat.completions.create(\n",
    "    model=MODEL,\n",
    "    messages=[\n",
    "        {\"role\": \"system\", \"content\": \"You are a helpful assistant that responds in Markdown. Help me with my math homework!\"},\n",
    "        {\"role\": \"user\", \"content\": [\n",
    "            {\"type\": \"text\", \"text\": \"What's the area of the triangle?\"},\n",
    "            {\"type\": \"image_url\", \"image_url\": {\n",
    "                \"url\": \"https://upload.wikimedia.org/wikipedia/commons/e/e2/The_Algebra_of_Mohammed_Ben_Musa_-_page_82b.png\"}\n",
    "            }\n",
    "        ]}\n",
    "    ],\n",
    "    temperature=0.0,\n",
    ")"
   ]
  },
  {
   "cell_type": "code",
   "execution_count": 14,
   "id": "142ce758-323f-4b3d-a222-6c5d3d333fa5",
   "metadata": {},
   "outputs": [
    {
     "name": "stdout",
     "output_type": "stream",
     "text": [
      "To find the area of the triangle, you can use the formula:\n",
      "\n",
      "\\[\n",
      "\\text{Area} = \\frac{1}{2} \\times \\text{base} \\times \\text{height}\n",
      "\\]\n",
      "\n",
      "In the triangle you provided:\n",
      "\n",
      "- The base is \\(9\\) (the length at the bottom).\n",
      "- The height is \\(5\\) (the vertical line from the top vertex to the base).\n",
      "\n",
      "Now, plug in the values:\n",
      "\n",
      "\\[\n",
      "\\text{Area} = \\frac{1}{2} \\times 9 \\times 5\n",
      "\\]\n",
      "\n",
      "Calculating this:\n",
      "\n",
      "\\[\n",
      "\\text{Area} = \\frac{1}{2} \\times 45 = 22.5\n",
      "\\]\n",
      "\n",
      "Thus, the area of the triangle is **22.5 square units**.\n"
     ]
    }
   ],
   "source": [
    "print(response.choices[0].message.content)"
   ]
  },
  {
   "cell_type": "code",
   "execution_count": null,
   "id": "b6db30b8-c075-4b98-9659-a58442e09746",
   "metadata": {},
   "outputs": [],
   "source": []
  }
 ],
 "metadata": {
  "kernelspec": {
   "display_name": "Python 3 (ipykernel)",
   "language": "python",
   "name": "python3"
  },
  "language_info": {
   "codemirror_mode": {
    "name": "ipython",
    "version": 3
   },
   "file_extension": ".py",
   "mimetype": "text/x-python",
   "name": "python",
   "nbconvert_exporter": "python",
   "pygments_lexer": "ipython3",
   "version": "3.12.2"
  }
 },
 "nbformat": 4,
 "nbformat_minor": 5
}
